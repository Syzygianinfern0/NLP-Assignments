{
 "cells": [
  {
   "cell_type": "markdown",
   "metadata": {},
   "source": [
    "# Predict tags on StackOverflow with linear models"
   ]
  },
  {
   "cell_type": "markdown",
   "metadata": {},
   "source": [
    "In this assignment you will learn how to predict tags for posts from [StackOverflow](https://stackoverflow.com). To solve this task you will use multilabel classification approach.\n",
    "\n",
    "### Libraries\n",
    "\n",
    "In this task you will need the following libraries:\n",
    "- [Numpy](http://www.numpy.org) — a package for scientific computing.\n",
    "- [Pandas](https://pandas.pydata.org) — a library providing high-performance, easy-to-use data structures and data analysis tools for the Python\n",
    "- [scikit-learn](http://scikit-learn.org/stable/index.html) — a tool for data mining and data analysis.\n",
    "- [NLTK](http://www.nltk.org) — a platform to work with natural language."
   ]
  },
  {
   "cell_type": "markdown",
   "metadata": {
    "heading_collapsed": true
   },
   "source": [
    "### Data\n",
    "\n",
    "The following cell will download all data required for this assignment into the folder `week1/data`."
   ]
  },
  {
   "cell_type": "code",
   "execution_count": 1,
   "metadata": {
    "ExecuteTime": {
     "end_time": "2019-06-26T03:18:33.151599Z",
     "start_time": "2019-06-26T03:18:32.897061Z"
    },
    "hidden": true
   },
   "outputs": [
    {
     "name": "stdout",
     "output_type": "stream",
     "text": [
      "File data\\train.tsv is already downloaded.\n",
      "File data\\validation.tsv is already downloaded.\n",
      "File data\\test.tsv is already downloaded.\n",
      "File data\\text_prepare_tests.tsv is already downloaded.\n"
     ]
    }
   ],
   "source": [
    "import sys\n",
    "sys.path.append(\"..\")\n",
    "from common.download_utils import download_week1_resources\n",
    "\n",
    "download_week1_resources()"
   ]
  },
  {
   "cell_type": "markdown",
   "metadata": {
    "heading_collapsed": true
   },
   "source": [
    "### Grading\n",
    "We will create a grader instance below and use it to collect your answers. Note that these outputs will be stored locally inside grader and will be uploaded to platform only after running submitting function in the last part of this assignment. If you want to make partial submission, you can run that cell any time you want."
   ]
  },
  {
   "cell_type": "code",
   "execution_count": 2,
   "metadata": {
    "ExecuteTime": {
     "end_time": "2019-06-26T03:18:33.157594Z",
     "start_time": "2019-06-26T03:18:33.153560Z"
    },
    "hidden": true
   },
   "outputs": [],
   "source": [
    "from grader import Grader"
   ]
  },
  {
   "cell_type": "code",
   "execution_count": 3,
   "metadata": {
    "ExecuteTime": {
     "end_time": "2019-06-26T03:18:33.169549Z",
     "start_time": "2019-06-26T03:18:33.159578Z"
    },
    "hidden": true
   },
   "outputs": [],
   "source": [
    "grader = Grader()"
   ]
  },
  {
   "cell_type": "markdown",
   "metadata": {
    "heading_collapsed": true
   },
   "source": [
    "### Text preprocessing"
   ]
  },
  {
   "cell_type": "markdown",
   "metadata": {
    "hidden": true
   },
   "source": [
    "For this and most of the following assignments you will need to use a list of stop words. It can be downloaded from *nltk*:"
   ]
  },
  {
   "cell_type": "code",
   "execution_count": 4,
   "metadata": {
    "ExecuteTime": {
     "end_time": "2019-06-26T03:18:46.849577Z",
     "start_time": "2019-06-26T03:18:33.171524Z"
    },
    "hidden": true
   },
   "outputs": [
    {
     "name": "stderr",
     "output_type": "stream",
     "text": [
      "[nltk_data] Error loading stopwords: <urlopen error [Errno 11001]\n",
      "[nltk_data]     getaddrinfo failed>\n"
     ]
    }
   ],
   "source": [
    "import nltk\n",
    "nltk.download('stopwords')\n",
    "from nltk.corpus import stopwords"
   ]
  },
  {
   "cell_type": "markdown",
   "metadata": {
    "hidden": true
   },
   "source": [
    "In this task you will deal with a dataset of post titles from StackOverflow. You are provided a split to 3 sets: *train*, *validation* and *test*. All corpora (except for *test*) contain titles of the posts and corresponding tags (100 tags are available). The *test* set is provided for Coursera's grading and doesn't contain answers. Upload the corpora using *pandas* and look at the data:"
   ]
  },
  {
   "cell_type": "code",
   "execution_count": 5,
   "metadata": {
    "ExecuteTime": {
     "end_time": "2019-06-26T03:18:50.537100Z",
     "start_time": "2019-06-26T03:18:46.850576Z"
    },
    "hidden": true
   },
   "outputs": [],
   "source": [
    "from ast import literal_eval\n",
    "import pandas as pd\n",
    "import numpy as np"
   ]
  },
  {
   "cell_type": "code",
   "execution_count": 6,
   "metadata": {
    "ExecuteTime": {
     "end_time": "2019-06-26T03:18:50.542481Z",
     "start_time": "2019-06-26T03:18:50.538470Z"
    },
    "hidden": true
   },
   "outputs": [],
   "source": [
    "def read_data(filename):\n",
    "    data = pd.read_csv(filename, sep='\\t')\n",
    "    data['tags'] = data['tags'].apply(literal_eval)\n",
    "    return data"
   ]
  },
  {
   "cell_type": "code",
   "execution_count": 7,
   "metadata": {
    "ExecuteTime": {
     "end_time": "2019-06-26T03:18:51.943685Z",
     "start_time": "2019-06-26T03:18:50.543423Z"
    },
    "hidden": true
   },
   "outputs": [],
   "source": [
    "train = read_data('data/train.tsv')\n",
    "validation = read_data('data/validation.tsv')\n",
    "test = pd.read_csv('data/test.tsv', sep='\\t')"
   ]
  },
  {
   "cell_type": "code",
   "execution_count": 8,
   "metadata": {
    "ExecuteTime": {
     "end_time": "2019-06-26T03:18:51.974768Z",
     "start_time": "2019-06-26T03:18:51.945547Z"
    },
    "hidden": true,
    "scrolled": true
   },
   "outputs": [
    {
     "data": {
      "text/html": [
       "<div>\n",
       "<style scoped>\n",
       "    .dataframe tbody tr th:only-of-type {\n",
       "        vertical-align: middle;\n",
       "    }\n",
       "\n",
       "    .dataframe tbody tr th {\n",
       "        vertical-align: top;\n",
       "    }\n",
       "\n",
       "    .dataframe thead th {\n",
       "        text-align: right;\n",
       "    }\n",
       "</style>\n",
       "<table border=\"1\" class=\"dataframe\">\n",
       "  <thead>\n",
       "    <tr style=\"text-align: right;\">\n",
       "      <th></th>\n",
       "      <th>title</th>\n",
       "      <th>tags</th>\n",
       "    </tr>\n",
       "  </thead>\n",
       "  <tbody>\n",
       "    <tr>\n",
       "      <th>0</th>\n",
       "      <td>How to draw a stacked dotplot in R?</td>\n",
       "      <td>[r]</td>\n",
       "    </tr>\n",
       "    <tr>\n",
       "      <th>1</th>\n",
       "      <td>mysql select all records where a datetime fiel...</td>\n",
       "      <td>[php, mysql]</td>\n",
       "    </tr>\n",
       "    <tr>\n",
       "      <th>2</th>\n",
       "      <td>How to terminate windows phone 8.1 app</td>\n",
       "      <td>[c#]</td>\n",
       "    </tr>\n",
       "    <tr>\n",
       "      <th>3</th>\n",
       "      <td>get current time in a specific country via jquery</td>\n",
       "      <td>[javascript, jquery]</td>\n",
       "    </tr>\n",
       "    <tr>\n",
       "      <th>4</th>\n",
       "      <td>Configuring Tomcat to Use SSL</td>\n",
       "      <td>[java]</td>\n",
       "    </tr>\n",
       "  </tbody>\n",
       "</table>\n",
       "</div>"
      ],
      "text/plain": [
       "                                               title                  tags\n",
       "0                How to draw a stacked dotplot in R?                   [r]\n",
       "1  mysql select all records where a datetime fiel...          [php, mysql]\n",
       "2             How to terminate windows phone 8.1 app                  [c#]\n",
       "3  get current time in a specific country via jquery  [javascript, jquery]\n",
       "4                      Configuring Tomcat to Use SSL                [java]"
      ]
     },
     "execution_count": 8,
     "metadata": {},
     "output_type": "execute_result"
    }
   ],
   "source": [
    "train.head()"
   ]
  },
  {
   "cell_type": "markdown",
   "metadata": {
    "hidden": true
   },
   "source": [
    "As you can see, *title* column contains titles of the posts and *tags* column contains the tags. It could be noticed that a number of tags for a post is not fixed and could be as many as necessary."
   ]
  },
  {
   "cell_type": "markdown",
   "metadata": {
    "hidden": true
   },
   "source": [
    "For a more comfortable usage, initialize *X_train*, *X_val*, *X_test*, *y_train*, *y_val*."
   ]
  },
  {
   "cell_type": "code",
   "execution_count": 9,
   "metadata": {
    "ExecuteTime": {
     "end_time": "2019-06-26T03:18:51.979773Z",
     "start_time": "2019-06-26T03:18:51.975765Z"
    },
    "hidden": true
   },
   "outputs": [],
   "source": [
    "X_train, y_train = train['title'].values, train['tags'].values\n",
    "X_val, y_val = validation['title'].values, validation['tags'].values\n",
    "X_test = test['title'].values"
   ]
  },
  {
   "cell_type": "markdown",
   "metadata": {
    "hidden": true
   },
   "source": [
    "One of the most known difficulties when working with natural data is that it's unstructured. For example, if you use it \"as is\" and extract tokens just by splitting the titles by whitespaces, you will see that there are many \"weird\" tokens like *3.5?*, *\"Flip*, etc. To prevent the problems, it's usually useful to prepare the data somehow. In this task you'll write a function, which will be also used in the other assignments. \n",
    "\n",
    "**Task 1 (TextPrepare).** Implement the function *text_prepare* following the instructions. After that, run the function *test_test_prepare* to test it on tiny cases and submit it to Coursera."
   ]
  },
  {
   "cell_type": "code",
   "execution_count": 11,
   "metadata": {
    "ExecuteTime": {
     "end_time": "2019-06-26T03:19:47.009695Z",
     "start_time": "2019-06-26T03:19:47.005660Z"
    },
    "hidden": true
   },
   "outputs": [],
   "source": [
    "import re"
   ]
  },
  {
   "cell_type": "code",
   "execution_count": 57,
   "metadata": {
    "ExecuteTime": {
     "end_time": "2019-06-26T04:15:42.572738Z",
     "start_time": "2019-06-26T04:15:42.566754Z"
    },
    "hidden": true
   },
   "outputs": [],
   "source": [
    "REPLACE_BY_SPACE_RE = re.compile('[/(){}\\[\\]\\|@,;]')\n",
    "BAD_SYMBOLS_RE = re.compile('[^0-9a-z #+_]')\n",
    "STOPWORDS = set(stopwords.words('english'))\n",
    "\n",
    "def text_prepare(text):\n",
    "    \"\"\"\n",
    "        text: a string\n",
    "        \n",
    "        return: modified initial string\n",
    "    \"\"\"\n",
    "    text = text.lower()    # lowercase text\n",
    "    text = re.sub(REPLACE_BY_SPACE_RE, ' ', text)    # replace REPLACE_BY_SPACE_RE symbols by space in text\n",
    "    text = re.sub(BAD_SYMBOLS_RE, '', text)    # delete symbols which are in BAD_SYMBOLS_RE from text\n",
    "    tokens = text.split()\n",
    "    text = ' '.join([token for token in tokens if token not in STOPWORDS])    # delete stopwords from text\n",
    "    return text"
   ]
  },
  {
   "cell_type": "code",
   "execution_count": 58,
   "metadata": {
    "ExecuteTime": {
     "end_time": "2019-06-26T04:15:42.911999Z",
     "start_time": "2019-06-26T04:15:42.907018Z"
    },
    "hidden": true
   },
   "outputs": [],
   "source": [
    "def test_text_prepare():\n",
    "    examples = [\"SQL Server - any equivalent of Excel's CHOOSE function?\",\n",
    "                \"How to free c++ memory vector<int> * arr?\"]\n",
    "    answers = [\"sql server equivalent excels choose function\", \n",
    "               \"free c++ memory vectorint arr\"]\n",
    "    for ex, ans in zip(examples, answers):\n",
    "        if text_prepare(ex) != ans:\n",
    "            print(text_prepare(ex))\n",
    "            return \"Wrong answer for the case: '%s'\" % ex\n",
    "    return 'Basic tests are passed.'"
   ]
  },
  {
   "cell_type": "code",
   "execution_count": 59,
   "metadata": {
    "ExecuteTime": {
     "end_time": "2019-06-26T04:15:43.638113Z",
     "start_time": "2019-06-26T04:15:43.634128Z"
    },
    "hidden": true
   },
   "outputs": [
    {
     "name": "stdout",
     "output_type": "stream",
     "text": [
      "Basic tests are passed.\n"
     ]
    }
   ],
   "source": [
    "print(test_text_prepare())"
   ]
  },
  {
   "cell_type": "markdown",
   "metadata": {
    "hidden": true
   },
   "source": [
    "Run your implementation for questions from file *text_prepare_tests.tsv* to earn the points."
   ]
  },
  {
   "cell_type": "code",
   "execution_count": 60,
   "metadata": {
    "ExecuteTime": {
     "end_time": "2019-06-26T04:15:45.144205Z",
     "start_time": "2019-06-26T04:15:45.138221Z"
    },
    "hidden": true
   },
   "outputs": [
    {
     "name": "stdout",
     "output_type": "stream",
     "text": [
      "Current answer for task TextPrepare is:\n",
      " sqlite php readonly\n",
      "creating multiple textboxes dynamically\n",
      "self one prefer javascript\n",
      "save php date...\n"
     ]
    }
   ],
   "source": [
    "prepared_questions = []\n",
    "for line in open('data/text_prepare_tests.tsv', encoding='utf-8'):\n",
    "    line = text_prepare(line.strip())\n",
    "    prepared_questions.append(line)\n",
    "text_prepare_results = '\\n'.join(prepared_questions)\n",
    "\n",
    "grader.submit_tag('TextPrepare', text_prepare_results)"
   ]
  },
  {
   "cell_type": "markdown",
   "metadata": {
    "hidden": true
   },
   "source": [
    "Now we can preprocess the titles using function *text_prepare* and  making sure that the headers don't have bad symbols:"
   ]
  },
  {
   "cell_type": "code",
   "execution_count": 61,
   "metadata": {
    "ExecuteTime": {
     "end_time": "2019-06-26T04:16:20.315447Z",
     "start_time": "2019-06-26T04:16:19.726453Z"
    },
    "hidden": true
   },
   "outputs": [],
   "source": [
    "X_train = [text_prepare(x) for x in X_train]\n",
    "X_val = [text_prepare(x) for x in X_val]\n",
    "X_test = [text_prepare(x) for x in X_test]"
   ]
  },
  {
   "cell_type": "code",
   "execution_count": 62,
   "metadata": {
    "ExecuteTime": {
     "end_time": "2019-06-26T04:16:20.444820Z",
     "start_time": "2019-06-26T04:16:20.439800Z"
    },
    "hidden": true
   },
   "outputs": [
    {
     "data": {
      "text/plain": [
       "['draw stacked dotplot r',\n",
       " 'mysql select records datetime field less specified value',\n",
       " 'terminate windows phone 81 app']"
      ]
     },
     "execution_count": 62,
     "metadata": {},
     "output_type": "execute_result"
    }
   ],
   "source": [
    "X_train[:3]"
   ]
  },
  {
   "cell_type": "markdown",
   "metadata": {
    "hidden": true
   },
   "source": [
    "For each tag and for each word calculate how many times they occur in the train corpus. \n",
    "\n",
    "**Task 2 (WordsTagsCount).** Find 3 most popular tags and 3 most popular words in the train data and submit the results to earn the points."
   ]
  },
  {
   "cell_type": "code",
   "execution_count": 63,
   "metadata": {
    "ExecuteTime": {
     "end_time": "2019-06-26T04:16:24.845407Z",
     "start_time": "2019-06-26T04:16:24.840420Z"
    },
    "hidden": true
   },
   "outputs": [
    {
     "data": {
      "text/plain": [
       "array([list(['r']), list(['php', 'mysql']), list(['c#'])], dtype=object)"
      ]
     },
     "execution_count": 63,
     "metadata": {},
     "output_type": "execute_result"
    }
   ],
   "source": [
    "y_train[:3]"
   ]
  },
  {
   "cell_type": "code",
   "execution_count": 31,
   "metadata": {
    "ExecuteTime": {
     "end_time": "2019-06-26T04:01:25.075737Z",
     "start_time": "2019-06-26T04:01:24.823015Z"
    },
    "hidden": true
   },
   "outputs": [],
   "source": [
    "# Dictionary of all tags from train corpus with their counts.\n",
    "tags_counts = {}\n",
    "# Dictionary of all words from train corpus with their counts.\n",
    "words_counts = {}\n",
    "\n",
    "######################################\n",
    "######### YOUR CODE HERE #############\n",
    "######################################\n",
    "for question, tags in zip(X_train, y_train):\n",
    "    for word in question.split():\n",
    "        if word in words_counts.keys():\n",
    "            words_counts[word] += 1\n",
    "        else:\n",
    "            words_counts[word] = 1\n",
    "    for tag in tags:\n",
    "        if tag in tags_counts.keys():\n",
    "            tags_counts[tag] += 1\n",
    "        else:\n",
    "            tags_counts[tag] = 1"
   ]
  },
  {
   "cell_type": "code",
   "execution_count": 47,
   "metadata": {
    "ExecuteTime": {
     "end_time": "2019-06-26T04:06:24.236504Z",
     "start_time": "2019-06-26T04:06:24.231484Z"
    },
    "hidden": true
   },
   "outputs": [
    {
     "data": {
      "text/plain": [
       "{'r': 1727,\n",
       " 'php': 13907,\n",
       " 'mysql': 3092,\n",
       " 'c#': 19077,\n",
       " 'javascript': 19078,\n",
       " 'jquery': 7510,\n",
       " 'java': 18661,\n",
       " 'ruby-on-rails': 3344,\n",
       " 'ruby': 2326,\n",
       " 'ruby-on-rails-3': 692,\n",
       " 'json': 2026,\n",
       " 'spring': 1346,\n",
       " 'spring-mvc': 618,\n",
       " 'codeigniter': 786,\n",
       " 'class': 509,\n",
       " 'html': 4668,\n",
       " 'ios': 3256,\n",
       " 'c++': 6469,\n",
       " 'eclipse': 992,\n",
       " 'python': 8940,\n",
       " 'list': 693,\n",
       " 'objective-c': 4338,\n",
       " 'swift': 1465,\n",
       " 'xaml': 438,\n",
       " 'asp.net': 3939,\n",
       " 'wpf': 1289,\n",
       " 'multithreading': 1118,\n",
       " 'image': 672,\n",
       " 'performance': 512,\n",
       " 'twitter-bootstrap': 501,\n",
       " 'linq': 964,\n",
       " 'xml': 1347,\n",
       " 'numpy': 502,\n",
       " 'ajax': 1767,\n",
       " 'django': 1835,\n",
       " 'laravel': 525,\n",
       " 'android': 2818,\n",
       " 'rest': 456,\n",
       " 'asp.net-mvc': 1244,\n",
       " 'web-services': 633,\n",
       " 'string': 1573,\n",
       " 'excel': 443,\n",
       " 'winforms': 1468,\n",
       " 'arrays': 2277,\n",
       " 'c': 3119,\n",
       " 'sockets': 579,\n",
       " 'osx': 490,\n",
       " 'entity-framework': 649,\n",
       " 'mongodb': 350,\n",
       " 'opencv': 401,\n",
       " 'xcode': 900,\n",
       " 'uitableview': 460,\n",
       " 'algorithm': 419,\n",
       " 'python-2.7': 421,\n",
       " 'angularjs': 1353,\n",
       " 'dom': 400,\n",
       " 'swing': 759,\n",
       " '.net': 3872,\n",
       " 'vb.net': 1918,\n",
       " 'google-maps': 408,\n",
       " 'hibernate': 807,\n",
       " 'wordpress': 478,\n",
       " 'iphone': 1909,\n",
       " 'sql': 1272,\n",
       " 'visual-studio': 574,\n",
       " 'linux': 793,\n",
       " 'facebook': 508,\n",
       " 'database': 740,\n",
       " 'file': 582,\n",
       " 'generics': 420,\n",
       " 'visual-studio-2010': 588,\n",
       " 'regex': 1442,\n",
       " 'html5': 842,\n",
       " 'jsp': 680,\n",
       " 'csv': 435,\n",
       " 'forms': 872,\n",
       " 'validation': 558,\n",
       " 'parsing': 403,\n",
       " 'function': 487,\n",
       " 'pandas': 479,\n",
       " 'sorting': 375,\n",
       " 'qt': 451,\n",
       " 'wcf': 389,\n",
       " 'css': 1769,\n",
       " 'date': 560,\n",
       " 'node.js': 771,\n",
       " 'sql-server': 585,\n",
       " 'unit-testing': 449,\n",
       " 'python-3.x': 379,\n",
       " 'loops': 389,\n",
       " 'windows': 838,\n",
       " 'pointers': 350,\n",
       " 'oop': 425,\n",
       " 'datetime': 557,\n",
       " 'servlets': 498,\n",
       " 'session': 415,\n",
       " 'cocoa-touch': 507,\n",
       " 'apache': 441,\n",
       " 'selenium': 431,\n",
       " 'maven': 432}"
      ]
     },
     "execution_count": 47,
     "metadata": {},
     "output_type": "execute_result"
    }
   ],
   "source": [
    "tags_counts"
   ]
  },
  {
   "cell_type": "code",
   "execution_count": 49,
   "metadata": {
    "ExecuteTime": {
     "end_time": "2019-06-26T04:06:44.554801Z",
     "start_time": "2019-06-26T04:06:44.538823Z"
    },
    "hidden": true
   },
   "outputs": [
    {
     "data": {
      "text/plain": [
       "{'draw': 173,\n",
       " 'stacked': 20,\n",
       " 'dotplot': 1,\n",
       " 'r': 890,\n",
       " 'mysql': 1486,\n",
       " 'select': 964,\n",
       " 'records': 175,\n",
       " 'datetime': 385,\n",
       " 'field': 770,\n",
       " 'less': 76,\n",
       " 'specified': 162,\n",
       " 'value': 3135,\n",
       " 'terminate': 33,\n",
       " 'windows': 1329,\n",
       " 'phone': 222,\n",
       " '81': 59,\n",
       " 'app': 1108,\n",
       " 'get': 4266,\n",
       " 'current': 523,\n",
       " 'time': 1174,\n",
       " 'specific': 690,\n",
       " 'country': 35,\n",
       " 'via': 590,\n",
       " 'jquery': 3124,\n",
       " 'configuring': 32,\n",
       " 'tomcat': 244,\n",
       " 'use': 2416,\n",
       " 'ssl': 133,\n",
       " 'awesome': 7,\n",
       " 'nested': 445,\n",
       " 'set': 1619,\n",
       " 'plugin': 266,\n",
       " 'add': 1584,\n",
       " 'new': 927,\n",
       " 'children': 76,\n",
       " 'tree': 207,\n",
       " 'various': 27,\n",
       " 'levels': 25,\n",
       " 'create': 1738,\n",
       " 'map': 484,\n",
       " 'json': 1533,\n",
       " 'response': 392,\n",
       " 'ruby': 1130,\n",
       " 'rails': 1740,\n",
       " '3': 626,\n",
       " 'rspec': 139,\n",
       " 'test': 530,\n",
       " 'method': 2109,\n",
       " 'called': 314,\n",
       " 'springboot': 27,\n",
       " 'catalina': 1,\n",
       " 'lifecycle': 9,\n",
       " 'exception': 937,\n",
       " 'import': 353,\n",
       " 'data': 3284,\n",
       " 'excel': 536,\n",
       " 'database': 1624,\n",
       " 'using': 8274,\n",
       " 'php': 5422,\n",
       " 'obtaining': 15,\n",
       " 'object': 2614,\n",
       " 'javalangclasst': 1,\n",
       " 'parameterized': 16,\n",
       " 'type': 1670,\n",
       " 'without': 1367,\n",
       " 'constructing': 8,\n",
       " 'class': 2516,\n",
       " 'q_uestion': 1,\n",
       " 'ipad': 70,\n",
       " 'selecting': 123,\n",
       " 'text': 1881,\n",
       " 'inside': 946,\n",
       " 'input': 1099,\n",
       " 'tap': 20,\n",
       " 'jquerys': 22,\n",
       " 'function': 2871,\n",
       " 'eclipse': 608,\n",
       " 'c++': 2143,\n",
       " 'mingw': 37,\n",
       " 'lauch': 1,\n",
       " 'program': 582,\n",
       " 'terminated': 19,\n",
       " 'javascript': 4546,\n",
       " 'call': 1254,\n",
       " 'one': 1367,\n",
       " 'prototype': 66,\n",
       " 'another': 1115,\n",
       " 'intersection': 17,\n",
       " 'list': 2104,\n",
       " 'sets': 57,\n",
       " 'longer': 40,\n",
       " 'able': 103,\n",
       " 'hide': 294,\n",
       " 'keyboard': 122,\n",
       " 'viewwilldisappear': 2,\n",
       " 'ios7': 25,\n",
       " 'fetch': 138,\n",
       " 'key': 750,\n",
       " 'swift': 930,\n",
       " 'change': 1429,\n",
       " 'pivot': 26,\n",
       " 'header': 446,\n",
       " 'template': 466,\n",
       " '8': 265,\n",
       " 'connectionstring': 13,\n",
       " 'encryption': 65,\n",
       " 'let': 26,\n",
       " 'ui': 289,\n",
       " 'refresh': 298,\n",
       " 'long': 231,\n",
       " 'running': 585,\n",
       " 'operation': 120,\n",
       " 'better': 127,\n",
       " 'way': 1450,\n",
       " 'execute': 314,\n",
       " 'file': 5022,\n",
       " 'python': 4008,\n",
       " 'console': 355,\n",
       " 'output': 524,\n",
       " 'run': 768,\n",
       " 'make': 1126,\n",
       " '2': 763,\n",
       " 'thumbnails': 24,\n",
       " 'codeigniter': 617,\n",
       " 'java': 5397,\n",
       " 'character': 525,\n",
       " 'vs': 816,\n",
       " 'char': 429,\n",
       " 'memory': 603,\n",
       " 'usage': 137,\n",
       " 'bootstrap': 426,\n",
       " 'modal': 222,\n",
       " 'close': 251,\n",
       " 'enter': 98,\n",
       " 'press': 58,\n",
       " 'linq': 726,\n",
       " 'query': 966,\n",
       " 'group': 279,\n",
       " 'retrieving': 110,\n",
       " 'percentage': 47,\n",
       " 'label': 225,\n",
       " 'issue': 576,\n",
       " 'openerp': 15,\n",
       " 'keep': 193,\n",
       " 'objects': 860,\n",
       " 'view': 989,\n",
       " 'scaling': 12,\n",
       " 'zy': 1,\n",
       " 'axis': 101,\n",
       " 'attributeerror': 62,\n",
       " 'nonetype': 32,\n",
       " 'attribute': 567,\n",
       " 'split': 326,\n",
       " 'append': 185,\n",
       " 'mat': 23,\n",
       " 'scipyiosavemat': 1,\n",
       " 'replace': 445,\n",
       " 'onclick': 317,\n",
       " 'hcommandlink': 2,\n",
       " 'redirect': 383,\n",
       " 'programme': 7,\n",
       " 'accesscontrolalloworigin': 21,\n",
       " 'present': 69,\n",
       " 'requested': 59,\n",
       " 'resource': 254,\n",
       " 'error': 4359,\n",
       " 'creating': 789,\n",
       " 'c#': 4090,\n",
       " 'ijsonvalue': 1,\n",
       " 'cannot': 1313,\n",
       " 'implicitly': 41,\n",
       " 'convert': 1583,\n",
       " 'string': 3584,\n",
       " 'windowsdatajsonijsonvalue': 1,\n",
       " 'django': 1352,\n",
       " 'modelform': 27,\n",
       " 'captialisation': 1,\n",
       " 'showhide': 37,\n",
       " 'div': 719,\n",
       " 'slide': 55,\n",
       " 'avoid': 157,\n",
       " 'busy': 9,\n",
       " 'spinning': 3,\n",
       " 'laravel': 555,\n",
       " '4': 440,\n",
       " 'inputall': 3,\n",
       " 'returns': 416,\n",
       " 'ajax': 1197,\n",
       " 'post': 788,\n",
       " 'handle': 283,\n",
       " 'neterr_connection_refused': 2,\n",
       " 'year': 96,\n",
       " 'retrofit': 20,\n",
       " 'singleton': 94,\n",
       " 'gson': 52,\n",
       " 'convertor': 3,\n",
       " 'settimer': 3,\n",
       " 'nondialog': 1,\n",
       " 'cpp': 23,\n",
       " 'mfc': 52,\n",
       " 'copying': 75,\n",
       " 'web': 1126,\n",
       " 'reference': 574,\n",
       " 'project': 709,\n",
       " 'top': 186,\n",
       " 'five': 10,\n",
       " 'insert': 631,\n",
       " 'index': 469,\n",
       " 'apache': 260,\n",
       " 'poi': 90,\n",
       " 'page': 1836,\n",
       " 'format': 701,\n",
       " 'worksheet': 16,\n",
       " 'tkinter': 152,\n",
       " 'indeterminate': 3,\n",
       " 'progress': 136,\n",
       " 'bar': 379,\n",
       " 'store': 471,\n",
       " 'image': 1824,\n",
       " 'path': 603,\n",
       " 'jdbc': 160,\n",
       " 'connection': 598,\n",
       " 'associated': 32,\n",
       " 'managed': 39,\n",
       " 'multiple': 2087,\n",
       " 'tables': 212,\n",
       " 'model': 630,\n",
       " 'yii2': 72,\n",
       " 'controller': 686,\n",
       " 'names': 254,\n",
       " 'aspnet': 1472,\n",
       " 'mvc4': 74,\n",
       " 'casting': 98,\n",
       " 'integer': 366,\n",
       " 'array': 3500,\n",
       " 'getting': 1158,\n",
       " 'uploading': 164,\n",
       " 'clear': 144,\n",
       " 'methods': 409,\n",
       " 'printing': 187,\n",
       " 'floats': 28,\n",
       " 'number': 1043,\n",
       " 'zeros': 30,\n",
       " 'simple': 514,\n",
       " 'cc++': 113,\n",
       " 'network': 156,\n",
       " 'io': 51,\n",
       " 'library': 621,\n",
       " 'usrbin': 3,\n",
       " 'instead': 347,\n",
       " 'usrlocalbin': 3,\n",
       " 'bitmap': 64,\n",
       " 'c': 1409,\n",
       " 'binary': 318,\n",
       " 'operations': 67,\n",
       " 'default': 585,\n",
       " 'mail': 180,\n",
       " 'working': 1633,\n",
       " 'entity': 521,\n",
       " 'framework': 816,\n",
       " 'distinct': 61,\n",
       " 'extjs': 120,\n",
       " 'checked': 154,\n",
       " 'nodes': 114,\n",
       " 'submit': 373,\n",
       " 'lists': 194,\n",
       " 'show': 632,\n",
       " 'element': 1094,\n",
       " 'pass': 836,\n",
       " 'values': 1515,\n",
       " 'html': 1635,\n",
       " 'information': 144,\n",
       " 'dictionary': 379,\n",
       " 'slidetoggle': 6,\n",
       " 'display': 933,\n",
       " 'created': 254,\n",
       " 'opencv': 270,\n",
       " 'android': 1487,\n",
       " 'instantiating': 15,\n",
       " 'namespace': 198,\n",
       " 'wpf': 695,\n",
       " 'screen': 270,\n",
       " 'resolution': 38,\n",
       " 'content': 576,\n",
       " 'static': 538,\n",
       " 'table': 1263,\n",
       " 'cell': 326,\n",
       " 'displayed': 64,\n",
       " 'ios': 750,\n",
       " '9': 47,\n",
       " 'best': 703,\n",
       " 'autocompletesuggest': 1,\n",
       " 'algorithmdatastructure': 1,\n",
       " 'c++c': 3,\n",
       " 'backbone': 68,\n",
       " 'modelsave': 7,\n",
       " 'sending': 365,\n",
       " 'put': 236,\n",
       " 'windowlocationreplace': 3,\n",
       " 'redirects': 23,\n",
       " 'given': 303,\n",
       " 'destroies': 1,\n",
       " 'session': 529,\n",
       " 'chrome': 406,\n",
       " 'mvc': 974,\n",
       " 'razor': 114,\n",
       " 'missing': 314,\n",
       " 'collections': 72,\n",
       " 'form': 1769,\n",
       " 'date': 1088,\n",
       " 'ddmmyyyy': 32,\n",
       " 'style': 254,\n",
       " 'dynamically': 690,\n",
       " 'linkbutton': 18,\n",
       " 'affecting': 9,\n",
       " 'others': 28,\n",
       " 'check': 1213,\n",
       " 'point': 211,\n",
       " 'line': 854,\n",
       " 'client': 488,\n",
       " 'request': 781,\n",
       " 'fails': 255,\n",
       " 'timeout': 154,\n",
       " 'simultaneously': 27,\n",
       " 'acquire': 9,\n",
       " 'update': 802,\n",
       " 'graph': 197,\n",
       " 'matplotlib': 230,\n",
       " 'datatable': 326,\n",
       " 'inner': 93,\n",
       " 'join': 222,\n",
       " 'dynamic': 615,\n",
       " 'columns': 371,\n",
       " 'correct': 204,\n",
       " 'realization': 1,\n",
       " 'adapter': 44,\n",
       " 'pattern': 248,\n",
       " 'objective': 196,\n",
       " 'save': 579,\n",
       " 'folder': 372,\n",
       " 'currying': 2,\n",
       " 'datatablesnet': 3,\n",
       " 'ignore': 97,\n",
       " 'rows': 455,\n",
       " 'sorting': 228,\n",
       " 'dom': 217,\n",
       " 'angular': 384,\n",
       " 'directive': 129,\n",
       " 'rectangles': 13,\n",
       " 'next': 193,\n",
       " 'parameters': 517,\n",
       " 'url': 1045,\n",
       " 'zend': 151,\n",
       " 'inheritance': 145,\n",
       " 'access': 1072,\n",
       " 'problem': 522,\n",
       " 'valueerror': 48,\n",
       " '20120719': 1,\n",
       " '082400': 1,\n",
       " 'match': 305,\n",
       " 'ymd': 2,\n",
       " 'hms': 4,\n",
       " 'passing': 632,\n",
       " 'trough': 3,\n",
       " 'sockets': 81,\n",
       " 'child': 370,\n",
       " 'deserializing': 46,\n",
       " 'xml': 1100,\n",
       " 'version': 341,\n",
       " 'application': 1433,\n",
       " 'executable': 79,\n",
       " 'contains': 248,\n",
       " 'unsupported': 49,\n",
       " 'architectures': 3,\n",
       " 'i386': 6,\n",
       " 'com': 72,\n",
       " 'urllib2urlerror': 2,\n",
       " 'urlopen': 8,\n",
       " 'errno': 32,\n",
       " '10061': 5,\n",
       " 'unique': 207,\n",
       " 'combination': 26,\n",
       " 'bind': 223,\n",
       " 'drop': 279,\n",
       " 'first': 631,\n",
       " 'ddl': 9,\n",
       " '31': 62,\n",
       " 'qeurying': 1,\n",
       " 'encrypted': 28,\n",
       " 'attr_encrypted': 1,\n",
       " 'gem': 162,\n",
       " 'clause': 79,\n",
       " 'fields': 363,\n",
       " 'listctrl': 3,\n",
       " 'hack': 11,\n",
       " 'listitems': 2,\n",
       " 'google': 969,\n",
       " 'maps': 312,\n",
       " 'api': 1073,\n",
       " 'generate': 380,\n",
       " 'city': 17,\n",
       " 'state': 163,\n",
       " 'name': 1153,\n",
       " 'mappedby': 4,\n",
       " 'unknown': 170,\n",
       " 'target': 137,\n",
       " 'property': 860,\n",
       " 'applet': 79,\n",
       " 'mac': 223,\n",
       " 'os': 153,\n",
       " '1066': 2,\n",
       " 'latitude': 38,\n",
       " 'longitude': 39,\n",
       " 'mouseout': 8,\n",
       " 'listener': 85,\n",
       " 'wordpress': 302,\n",
       " 'find': 1370,\n",
       " 'row': 758,\n",
       " 'quickly': 29,\n",
       " 'iphone': 436,\n",
       " 'xcodebuild': 1,\n",
       " 'command': 508,\n",
       " 'terminal': 46,\n",
       " 'sapply': 3,\n",
       " 'return': 974,\n",
       " 'matrix': 196,\n",
       " 'need': 407,\n",
       " 'transpose': 12,\n",
       " 'transposed': 1,\n",
       " 'attach': 35,\n",
       " 'dataframe': 259,\n",
       " 'parent': 412,\n",
       " 'programmatically': 353,\n",
       " 'd3': 75,\n",
       " 'js': 591,\n",
       " 'tick': 27,\n",
       " 'spacing': 19,\n",
       " 'gets': 64,\n",
       " 'messed': 7,\n",
       " 'month': 138,\n",
       " 'boundary': 14,\n",
       " 'hash': 200,\n",
       " 'oledbconnection': 4,\n",
       " 'con': 2,\n",
       " 'user': 1102,\n",
       " 'fit': 71,\n",
       " 'needs': 38,\n",
       " 'jsonpropertypropertyname': 1,\n",
       " 'somename': 1,\n",
       " 'serializing': 40,\n",
       " 'automatically': 257,\n",
       " 'install': 386,\n",
       " 'toolbarbutton': 1,\n",
       " 'firefox': 215,\n",
       " 'navbar': 24,\n",
       " 'insertitem': 1,\n",
       " 'auto': 235,\n",
       " 'layout': 175,\n",
       " 'constraints': 46,\n",
       " 'interactive': 34,\n",
       " 'interface': 325,\n",
       " 'builder': 62,\n",
       " 'kill': 29,\n",
       " 'process': 373,\n",
       " 'system': 327,\n",
       " 'shell': 119,\n",
       " 'setting': 472,\n",
       " 'timezone': 80,\n",
       " 'cant': 856,\n",
       " 'recent': 18,\n",
       " 'olson': 1,\n",
       " 'facebook': 475,\n",
       " 'help': 261,\n",
       " 'dialog': 258,\n",
       " 'javascriptjquery': 73,\n",
       " 'event': 1084,\n",
       " 'load': 894,\n",
       " 'browsers': 88,\n",
       " 'intellijandroid': 1,\n",
       " 'constant': 171,\n",
       " 'expression': 470,\n",
       " 'required': 160,\n",
       " 'case': 189,\n",
       " 'ridviewid': 1,\n",
       " 'dropdown': 381,\n",
       " 'based': 656,\n",
       " 'entries': 63,\n",
       " 'wont': 203,\n",
       " 'work': 929,\n",
       " 'local': 404,\n",
       " 'machine': 118,\n",
       " 'pyqt': 50,\n",
       " 'addeventlistener': 10,\n",
       " 'send': 640,\n",
       " 'thread': 591,\n",
       " 'focus': 166,\n",
       " 'listviewitem': 7,\n",
       " 'documentgetelementbyidtableidinnerhtml': 1,\n",
       " 'ie8': 85,\n",
       " 'efficient': 152,\n",
       " 'int': 480,\n",
       " 'inverse': 6,\n",
       " 'edit': 184,\n",
       " 'txt': 93,\n",
       " 'conditionally': 27,\n",
       " 'filter': 336,\n",
       " 'iqueryable': 14,\n",
       " 'generic': 332,\n",
       " 'repository': 90,\n",
       " 'invalid': 417,\n",
       " 'indirect': 8,\n",
       " 'decodeindirectref': 1,\n",
       " 'trying': 399,\n",
       " 'record': 183,\n",
       " 'sql': 990,\n",
       " 'notesnotessession': 1,\n",
       " 'dominonotessession': 1,\n",
       " 'password': 265,\n",
       " 'prompt': 69,\n",
       " 'regex': 624,\n",
       " 'needed': 79,\n",
       " 'play': 172,\n",
       " 'videos': 36,\n",
       " 'website': 334,\n",
       " 'reading': 498,\n",
       " 'stdin': 41,\n",
       " 'blocking': 27,\n",
       " 'video': 304,\n",
       " 'old': 57,\n",
       " 'rest': 310,\n",
       " 'comma': 129,\n",
       " 'separated': 67,\n",
       " 'collection': 343,\n",
       " 'spring': 1006,\n",
       " 'checking': 218,\n",
       " 'member': 274,\n",
       " 'struct': 202,\n",
       " 'gridview': 359,\n",
       " 'export': 154,\n",
       " 'tinymce': 38,\n",
       " 'moxie': 1,\n",
       " 'player': 42,\n",
       " 'media': 52,\n",
       " 'splash': 13,\n",
       " 'propertyplaceholderconfigurerlike': 1,\n",
       " 'accepts': 12,\n",
       " 'csv': 428,\n",
       " 'stringsplit': 10,\n",
       " 'shortened': 1,\n",
       " 'due': 72,\n",
       " 'blank': 112,\n",
       " 'li': 58,\n",
       " 'ngmodel': 17,\n",
       " 'start': 359,\n",
       " 'blackberry': 10,\n",
       " 'programming': 192,\n",
       " 'smloginitemsetenabled': 1,\n",
       " 'counterpart': 2,\n",
       " 'searching': 74,\n",
       " 'sdk': 196,\n",
       " 'quick': 28,\n",
       " 'directory': 500,\n",
       " 'directorynotfoundexception': 2,\n",
       " 'column': 937,\n",
       " 'headings': 2,\n",
       " 'odd': 49,\n",
       " 'even': 200,\n",
       " 'numbers': 446,\n",
       " 'threads': 205,\n",
       " 'alternatives': 34,\n",
       " 'projects': 70,\n",
       " 'similar': 80,\n",
       " 'joomlamambodrupal': 1,\n",
       " 'assign': 169,\n",
       " 'variable': 1528,\n",
       " 'properties': 325,\n",
       " 'accessing': 293,\n",
       " 'global': 269,\n",
       " 'onclicklistener': 11,\n",
       " 'argument': 304,\n",
       " 'uml': 9,\n",
       " 'preg_replace': 44,\n",
       " 'curly': 14,\n",
       " 'brackets': 51,\n",
       " '323': 6,\n",
       " 'bundler': 25,\n",
       " 'could': 437,\n",
       " 'compatible': 33,\n",
       " 'versions': 56,\n",
       " 'railties': 1,\n",
       " 'exe': 82,\n",
       " 'antcreate': 1,\n",
       " 'junit': 123,\n",
       " 'report': 127,\n",
       " 'task': 201,\n",
       " 'facebooks': 7,\n",
       " 'messenger': 4,\n",
       " 'sms': 33,\n",
       " 'broadcast': 19,\n",
       " 'receiver': 11,\n",
       " 'takes': 76,\n",
       " 'highest': 18,\n",
       " 'priority': 28,\n",
       " 'reboot': 5,\n",
       " 'documentgetelementsbyclassnamename': 1,\n",
       " 'length': 264,\n",
       " '0': 261,\n",
       " 'bypass': 19,\n",
       " 'clientside': 32,\n",
       " 'validation': 497,\n",
       " 'rvmrails': 1,\n",
       " 'installation': 78,\n",
       " 'ubuntu': 161,\n",
       " '1104': 3,\n",
       " 'trigger': 155,\n",
       " 'carousel': 33,\n",
       " 'socks': 3,\n",
       " 'proxy': 122,\n",
       " 'configuration': 193,\n",
       " 'unable': 490,\n",
       " 'concanate': 1,\n",
       " 'string+variable+string': 1,\n",
       " 'redirecttoaction': 6,\n",
       " 'mapset': 3,\n",
       " 'iterators': 22,\n",
       " 'incompatible': 69,\n",
       " 'destruction': 9,\n",
       " 'dependent': 34,\n",
       " 'constructor': 354,\n",
       " 'parseerror': 4,\n",
       " 'bad': 158,\n",
       " 'symfony2': 144,\n",
       " 'forms': 291,\n",
       " 'options': 138,\n",
       " 'laravel5': 4,\n",
       " 'notfoundhttpexception': 6,\n",
       " 'routecollectionphp': 3,\n",
       " '161': 4,\n",
       " 'submission': 47,\n",
       " 'handling': 257,\n",
       " 'triggers': 16,\n",
       " 'oracle': 167,\n",
       " 'mongoose': 35,\n",
       " 'callback': 233,\n",
       " 'javasecurityinvalidalgorithmparameterexception': 1,\n",
       " 'rc6': 1,\n",
       " 'well': 44,\n",
       " 'rc2': 2,\n",
       " 'updating': 246,\n",
       " 'models': 134,\n",
       " '5': 316,\n",
       " 'canvas': 287,\n",
       " 'issues': 167,\n",
       " 'comparison': 95,\n",
       " 'variables': 690,\n",
       " 'pointing': 18,\n",
       " 'parse': 436,\n",
       " 'possible': 601,\n",
       " 'jump': 23,\n",
       " 'safely': 21,\n",
       " 'destroy': 52,\n",
       " 'window': 691,\n",
       " 'wxpython': 39,\n",
       " 'includes': 40,\n",
       " 'casesensitive': 3,\n",
       " 'systems': 13,\n",
       " 'managepy': 17,\n",
       " 'runserver': 8,\n",
       " 'saving': 231,\n",
       " 'frames': 55,\n",
       " 'waypoints': 2,\n",
       " 'directions_changed': 1,\n",
       " 'compilation': 80,\n",
       " 'found': 582,\n",
       " 'parsecom': 16,\n",
       " 'libgdx': 60,\n",
       " 'implementation': 187,\n",
       " 'iframe': 327,\n",
       " 'position': 315,\n",
       " 'adding': 670,\n",
       " 'calculate': 194,\n",
       " 'correlation': 13,\n",
       " 'remove': 904,\n",
       " 'highly': 4,\n",
       " 'correlated': 2,\n",
       " 'ones': 15,\n",
       " 'pandas': 374,\n",
       " 'optimizations': 6,\n",
       " 'browser': 479,\n",
       " 'perform': 79,\n",
       " 'rendered': 32,\n",
       " 'denied': 120,\n",
       " 'service': 745,\n",
       " 'delegate': 118,\n",
       " 'sbmainworkspace': 1,\n",
       " 'phpmysql': 58,\n",
       " 'count': 363,\n",
       " 'datagridview': 341,\n",
       " 'scipy': 30,\n",
       " 'buildinstall': 1,\n",
       " 'osx': 100,\n",
       " 'ip': 166,\n",
       " 'address': 270,\n",
       " 'mask': 32,\n",
       " 'textbox': 489,\n",
       " 'adodc': 1,\n",
       " 'vbnet': 624,\n",
       " 'commands': 72,\n",
       " 'selected': 492,\n",
       " 'valuetext': 3,\n",
       " 'codebehind': 59,\n",
       " 'restrict': 53,\n",
       " 'jqgrid': 114,\n",
       " 'textarea': 150,\n",
       " 'height': 265,\n",
       " 'grid': 230,\n",
       " 'generatorelement': 1,\n",
       " 'sequencetype': 1,\n",
       " 'editor': 81,\n",
       " 'serialization': 110,\n",
       " 'readonlycollections': 1,\n",
       " 'extend': 74,\n",
       " 'exceptions': 158,\n",
       " 'guidelines': 5,\n",
       " 'understand': 40,\n",
       " 'parallelinstances': 1,\n",
       " 'testng': 29,\n",
       " 'suite': 16,\n",
       " 'configure': 126,\n",
       " 'webpage': 118,\n",
       " 'parameter': 641,\n",
       " 'owin': 17,\n",
       " 'host': 105,\n",
       " 'saved': 49,\n",
       " 'rake': 86,\n",
       " 'errors': 278,\n",
       " 'loading': 452,\n",
       " 'kind': 21,\n",
       " 'mutex': 28,\n",
       " 'calculation': 48,\n",
       " 'entities': 118,\n",
       " 'difference': 639,\n",
       " 'cocos2dx': 11,\n",
       " 'lua': 29,\n",
       " 'binding': 328,\n",
       " 'reset': 97,\n",
       " 'dispatchertimer': 3,\n",
       " 'angularjs': 653,\n",
       " 'verify': 53,\n",
       " 'box': 452,\n",
       " 'clicked': 164,\n",
       " 'structure': 236,\n",
       " 'pointer': 359,\n",
       " 'dll': 227,\n",
       " 'pausing': 9,\n",
       " '#': 34,\n",
       " 'milliseconds': 42,\n",
       " 'params': 56,\n",
       " 'requests': 165,\n",
       " 'brace': 3,\n",
       " 'highlighting': 41,\n",
       " 'visual': 609,\n",
       " 'studio': 569,\n",
       " 'email': 398,\n",
       " 'component': 153,\n",
       " 'versus': 43,\n",
       " 'phpmailer': 48,\n",
       " 'cakephp': 172,\n",
       " 'include': 291,\n",
       " 'files': 1234,\n",
       " 'correctly': 218,\n",
       " 'development': 137,\n",
       " 'uiimageview': 65,\n",
       " 'size': 580,\n",
       " 'n': 139,\n",
       " 'stdendl': 4,\n",
       " 'stdcout': 3,\n",
       " 'seperate': 15,\n",
       " 'gc': 21,\n",
       " 'log': 190,\n",
       " 'vm': 25,\n",
       " 'server': 1499,\n",
       " 'fix': 141,\n",
       " 'laravellog': 1,\n",
       " 'opened': 41,\n",
       " 'separate': 130,\n",
       " 'commas': 29,\n",
       " 'basically': 1,\n",
       " 'quotes': 121,\n",
       " 'serversocket': 10,\n",
       " 'port': 165,\n",
       " 'supposed': 13,\n",
       " 'matching': 132,\n",
       " 'reopen': 7,\n",
       " 'expressions': 112,\n",
       " 'void': 87,\n",
       " 'main': 231,\n",
       " 'grouping': 44,\n",
       " 'sort': 338,\n",
       " 'preserving': 23,\n",
       " 'systemconcurrencyasynclock': 1,\n",
       " 'qt': 238,\n",
       " 'mainwindow': 12,\n",
       " 'resize': 178,\n",
       " 'centralwidget': 1,\n",
       " 'resized': 14,\n",
       " 'dispatcher': 20,\n",
       " '00002efd': 1,\n",
       " 'ie': 267,\n",
       " 'href': 105,\n",
       " 'compile': 219,\n",
       " 'single': 469,\n",
       " 'gradle': 73,\n",
       " 'examine': 3,\n",
       " 'code': 1650,\n",
       " 'thats': 18,\n",
       " 'sensitive': 25,\n",
       " 'curl': 244,\n",
       " 'rectangle': 56,\n",
       " 'pygame': 58,\n",
       " 'moves': 8,\n",
       " 'mouse': 211,\n",
       " 'location': 254,\n",
       " 'naming': 45,\n",
       " 'conventions': 17,\n",
       " 'systemwindowsformsiwin32window': 1,\n",
       " 'populate': 163,\n",
       " 'second': 145,\n",
       " 'particle': 2,\n",
       " 'installing': 214,\n",
       " 'sunjava6jre': 1,\n",
       " 'gives': 115,\n",
       " 'render': 145,\n",
       " 'openxml': 10,\n",
       " 'spreadsheet': 40,\n",
       " 'sharedstringtable': 1,\n",
       " 'objectivec': 335,\n",
       " 'commonly': 3,\n",
       " 'used': 261,\n",
       " 'words': 150,\n",
       " 'nsstring': 105,\n",
       " 'generics': 84,\n",
       " 'wildcard': 34,\n",
       " 'define': 145,\n",
       " 'vector': 265,\n",
       " 'undefined': 690,\n",
       " 'switch': 162,\n",
       " 'eval': 55,\n",
       " 'generator': 84,\n",
       " 'services': 138,\n",
       " 'implement': 310,\n",
       " 'ease': 3,\n",
       " 'animation': 190,\n",
       " 'jpa': 172,\n",
       " 'backend': 42,\n",
       " 'changes': 196,\n",
       " 'asynchronously': 38,\n",
       " 'subdomain': 25,\n",
       " 'creation': 71,\n",
       " 'linux': 346,\n",
       " 'preg_match': 48,\n",
       " 'strings': 462,\n",
       " 'open': 709,\n",
       " 'source': 374,\n",
       " 'computation': 6,\n",
       " 'null': 780,\n",
       " 'float': 200,\n",
       " 'jframe': 103,\n",
       " 'basic': 209,\n",
       " 'shapes': 21,\n",
       " 'regular': 296,\n",
       " 'startend': 2,\n",
       " 'detect': 365,\n",
       " 'brightness': 3,\n",
       " 'volume': 20,\n",
       " 'changed': 134,\n",
       " 'horizontal': 64,\n",
       " 'slider': 80,\n",
       " '100': 58,\n",
       " 'width': 252,\n",
       " 'imageschildren': 1,\n",
       " 'serial': 97,\n",
       " 'print': 435,\n",
       " 'arduino': 45,\n",
       " 'checkbox': 372,\n",
       " 'outofmemory': 9,\n",
       " 'cvcreatememstorage': 1,\n",
       " 'instance': 440,\n",
       " 'deploy': 102,\n",
       " 'clickonce': 20,\n",
       " 'signing': 8,\n",
       " '2d': 240,\n",
       " 'clickable': 38,\n",
       " 'created_at': 8,\n",
       " 'shopping': 17,\n",
       " 'cart': 40,\n",
       " 'item': 481,\n",
       " 'added': 111,\n",
       " 'compiler': 149,\n",
       " 'oddity': 3,\n",
       " 'declared': 96,\n",
       " 'yet': 23,\n",
       " 'visible': 121,\n",
       " 'replacement': 38,\n",
       " 'cultureinfogetcultures': 1,\n",
       " 'net': 760,\n",
       " 'apps': 131,\n",
       " 'npm': 21,\n",
       " '+': 586,\n",
       " 'mocha': 16,\n",
       " 'watch': 25,\n",
       " 'accurately': 5,\n",
       " 'watching': 6,\n",
       " 'dofilterinternal': 1,\n",
       " 'stl': 94,\n",
       " 'prevents': 9,\n",
       " 'strict': 15,\n",
       " 'superset': 2,\n",
       " 'clock': 22,\n",
       " 'setsystemtime': 1,\n",
       " 'overloading': 51,\n",
       " 'optional': 75,\n",
       " 'tuples': 34,\n",
       " 'statements': 132,\n",
       " 'tomcat7': 6,\n",
       " 'shows': 87,\n",
       " 'inactive': 8,\n",
       " 'users': 207,\n",
       " 'manager': 58,\n",
       " 'backbonejs': 73,\n",
       " 'elements': 626,\n",
       " 'fired': 39,\n",
       " 'views': 146,\n",
       " 'remote': 228,\n",
       " 'notification': 132,\n",
       " 'launch': 45,\n",
       " 'background': 441,\n",
       " 'proper': 99,\n",
       " 'completion': 40,\n",
       " 'vim': 25,\n",
       " 'mobile': 276,\n",
       " 'didnt': 21,\n",
       " 'runtime': 287,\n",
       " 'weird': 54,\n",
       " 'moq': 44,\n",
       " 'nil': 101,\n",
       " 'combine': 92,\n",
       " 'plot': 224,\n",
       " 'read': 893,\n",
       " 'sensor': 2,\n",
       " 'nomethoderror': 24,\n",
       " 'nilnilclass': 19,\n",
       " 'jbutton': 39,\n",
       " 'actionlistener': 19,\n",
       " 'producing': 22,\n",
       " 'several': 71,\n",
       " 'javaawt': 2,\n",
       " 'security': 179,\n",
       " 'catching': 37,\n",
       " 'fullscreen': 30,\n",
       " 'seems': 39,\n",
       " 'parallel': 81,\n",
       " 'prime': 22,\n",
       " 'factorization': 2,\n",
       " 'duplicating': 6,\n",
       " 'script': 814,\n",
       " 'nohup': 1,\n",
       " 'cli': 27,\n",
       " 'tuple': 78,\n",
       " 'yiibootstrap': 1,\n",
       " 'tabs': 101,\n",
       " 'handler': 203,\n",
       " 'examples': 39,\n",
       " 'custom': 1093,\n",
       " 'soft': 10,\n",
       " 'panel': 130,\n",
       " 'windowsce': 5,\n",
       " '60': 18,\n",
       " 'exec': 63,\n",
       " 'status': 140,\n",
       " 'realtime': 36,\n",
       " 'lookup': 48,\n",
       " 'twitter': 180,\n",
       " 'followers': 6,\n",
       " 'looking': 60,\n",
       " 'day': 112,\n",
       " 'libraryplugincalendar': 1,\n",
       " 'three': 61,\n",
       " 'sprite': 31,\n",
       " 'bitmapsave': 3,\n",
       " 'huge': 30,\n",
       " 'leak': 89,\n",
       " 'many': 274,\n",
       " 'relationships': 38,\n",
       " 'taxonomy': 3,\n",
       " 'eloquent': 51,\n",
       " 'write': 536,\n",
       " 'encoding': 193,\n",
       " 'utf8': 180,\n",
       " 'storing': 192,\n",
       " ...}"
      ]
     },
     "execution_count": 49,
     "metadata": {},
     "output_type": "execute_result"
    }
   ],
   "source": [
    "words_counts"
   ]
  },
  {
   "cell_type": "markdown",
   "metadata": {
    "hidden": true
   },
   "source": [
    "We are assuming that *tags_counts* and *words_counts* are dictionaries like `{'some_word_or_tag': frequency}`. After applying the sorting procedure, results will be look like this: `[('most_popular_word_or_tag', frequency), ('less_popular_word_or_tag', frequency), ...]`. The grader gets the results in the following format (two comma-separated strings with line break):\n",
    "\n",
    "    tag1,tag2,tag3\n",
    "    word1,word2,word3\n",
    "\n",
    "Pay attention that in this assignment you should not submit frequencies or some additional information."
   ]
  },
  {
   "cell_type": "code",
   "execution_count": 50,
   "metadata": {
    "ExecuteTime": {
     "end_time": "2019-06-26T04:07:25.245780Z",
     "start_time": "2019-06-26T04:07:25.232783Z"
    },
    "hidden": true
   },
   "outputs": [
    {
     "name": "stdout",
     "output_type": "stream",
     "text": [
      "Current answer for task WordsTagsCount is:\n",
      " javascript,c#,java\n",
      "using,php,java...\n"
     ]
    }
   ],
   "source": [
    "most_common_tags = sorted(tags_counts.items(), key=lambda x: x[1], reverse=True)[:3]\n",
    "most_common_words = sorted(words_counts.items(), key=lambda x: x[1], reverse=True)[:3]\n",
    "\n",
    "grader.submit_tag('WordsTagsCount', '%s\\n%s' % (','.join(tag for tag, _ in most_common_tags), \n",
    "                                                ','.join(word for word, _ in most_common_words)))"
   ]
  },
  {
   "cell_type": "markdown",
   "metadata": {},
   "source": [
    "### Transforming text to a vector\n",
    "\n",
    "Machine Learning algorithms work with numeric data and we cannot use the provided text data \"as is\". There are many ways to transform text data to numeric vectors. In this task you will try to use two of them.\n",
    "\n",
    "#### Bag of words\n",
    "\n",
    "One of the well-known approaches is a *bag-of-words* representation. To create this transformation, follow the steps:\n",
    "1. Find *N* most popular words in train corpus and numerate them. Now we have a dictionary of the most popular words.\n",
    "2. For each title in the corpora create a zero vector with the dimension equals to *N*.\n",
    "3. For each text in the corpora iterate over words which are in the dictionary and increase by 1 the corresponding coordinate.\n",
    "\n",
    "Let's try to do it for a toy example. Imagine that we have *N* = 4 and the list of the most popular words is \n",
    "\n",
    "    ['hi', 'you', 'me', 'are']\n",
    "\n",
    "Then we need to numerate them, for example, like this: \n",
    "\n",
    "    {'hi': 0, 'you': 1, 'me': 2, 'are': 3}\n",
    "\n",
    "And we have the text, which we want to transform to the vector:\n",
    "\n",
    "    'hi how are you'\n",
    "\n",
    "For this text we create a corresponding zero vector \n",
    "\n",
    "    [0, 0, 0, 0]\n",
    "    \n",
    "And iterate over all words, and if the word is in the dictionary, we increase the value of the corresponding position in the vector:\n",
    "\n",
    "    'hi':  [1, 0, 0, 0]\n",
    "    'how': [1, 0, 0, 0] # word 'how' is not in our dictionary\n",
    "    'are': [1, 0, 0, 1]\n",
    "    'you': [1, 1, 0, 1]\n",
    "\n",
    "The resulting vector will be \n",
    "\n",
    "    [1, 1, 0, 1]\n",
    "   \n",
    "Implement the described encoding in the function *my_bag_of_words* with the size of the dictionary equals to 5000. To find the most common words use train data. You can test your code using the function *test_my_bag_of_words*."
   ]
  },
  {
   "cell_type": "code",
   "execution_count": null,
   "metadata": {},
   "outputs": [],
   "source": [
    "DICT_SIZE = 5000\n",
    "WORDS_TO_INDEX = ####### YOUR CODE HERE #######\n",
    "INDEX_TO_WORDS = ####### YOUR CODE HERE #######\n",
    "ALL_WORDS = WORDS_TO_INDEX.keys()\n",
    "\n",
    "def my_bag_of_words(text, words_to_index, dict_size):\n",
    "    \"\"\"\n",
    "        text: a string\n",
    "        dict_size: size of the dictionary\n",
    "        \n",
    "        return a vector which is a bag-of-words representation of 'text'\n",
    "    \"\"\"\n",
    "    result_vector = np.zeros(dict_size)\n",
    "    ######################################\n",
    "    ######### YOUR CODE HERE #############\n",
    "    ######################################\n",
    "    return result_vector"
   ]
  },
  {
   "cell_type": "code",
   "execution_count": null,
   "metadata": {},
   "outputs": [],
   "source": [
    "def test_my_bag_of_words():\n",
    "    words_to_index = {'hi': 0, 'you': 1, 'me': 2, 'are': 3}\n",
    "    examples = ['hi how are you']\n",
    "    answers = [[1, 1, 0, 1]]\n",
    "    for ex, ans in zip(examples, answers):\n",
    "        if (my_bag_of_words(ex, words_to_index, 4) != ans).any():\n",
    "            return \"Wrong answer for the case: '%s'\" % ex\n",
    "    return 'Basic tests are passed.'"
   ]
  },
  {
   "cell_type": "code",
   "execution_count": null,
   "metadata": {},
   "outputs": [],
   "source": [
    "print(test_my_bag_of_words())"
   ]
  },
  {
   "cell_type": "markdown",
   "metadata": {},
   "source": [
    "Now apply the implemented function to all samples (this might take up to a minute):"
   ]
  },
  {
   "cell_type": "code",
   "execution_count": null,
   "metadata": {},
   "outputs": [],
   "source": [
    "from scipy import sparse as sp_sparse"
   ]
  },
  {
   "cell_type": "code",
   "execution_count": null,
   "metadata": {},
   "outputs": [],
   "source": [
    "X_train_mybag = sp_sparse.vstack([sp_sparse.csr_matrix(my_bag_of_words(text, WORDS_TO_INDEX, DICT_SIZE)) for text in X_train])\n",
    "X_val_mybag = sp_sparse.vstack([sp_sparse.csr_matrix(my_bag_of_words(text, WORDS_TO_INDEX, DICT_SIZE)) for text in X_val])\n",
    "X_test_mybag = sp_sparse.vstack([sp_sparse.csr_matrix(my_bag_of_words(text, WORDS_TO_INDEX, DICT_SIZE)) for text in X_test])\n",
    "print('X_train shape ', X_train_mybag.shape)\n",
    "print('X_val shape ', X_val_mybag.shape)\n",
    "print('X_test shape ', X_test_mybag.shape)"
   ]
  },
  {
   "cell_type": "markdown",
   "metadata": {},
   "source": [
    "As you might notice, we transform the data to sparse representation, to store the useful information efficiently. There are many [types](https://docs.scipy.org/doc/scipy/reference/sparse.html) of such representations, however sklearn algorithms can work only with [csr](https://docs.scipy.org/doc/scipy/reference/generated/scipy.sparse.csr_matrix.html#scipy.sparse.csr_matrix) matrix, so we will use this one."
   ]
  },
  {
   "cell_type": "markdown",
   "metadata": {},
   "source": [
    "**Task 3 (BagOfWords).** For the 11th row in *X_train_mybag* find how many non-zero elements it has. In this task the answer (variable *non_zero_elements_count*) should be a number, e.g. 20."
   ]
  },
  {
   "cell_type": "code",
   "execution_count": null,
   "metadata": {},
   "outputs": [],
   "source": [
    "row = X_train_mybag[10].toarray()[0]\n",
    "non_zero_elements_count = ####### YOUR CODE HERE #######\n",
    "\n",
    "grader.submit_tag('BagOfWords', str(non_zero_elements_count))"
   ]
  },
  {
   "cell_type": "markdown",
   "metadata": {},
   "source": [
    "#### TF-IDF\n",
    "\n",
    "The second approach extends the bag-of-words framework by taking into account total frequencies of words in the corpora. It helps to penalize too frequent words and provide better features space. \n",
    "\n",
    "Implement function *tfidf_features* using class [TfidfVectorizer](http://scikit-learn.org/stable/modules/generated/sklearn.feature_extraction.text.TfidfVectorizer.html) from *scikit-learn*. Use *train* corpus to train a vectorizer. Don't forget to take a look into the arguments that you can pass to it. We suggest that you filter out too rare words (occur less than in 5 titles) and too frequent words (occur more than in 90% of the titles). Also, use bigrams along with unigrams in your vocabulary. "
   ]
  },
  {
   "cell_type": "code",
   "execution_count": null,
   "metadata": {},
   "outputs": [],
   "source": [
    "from sklearn.feature_extraction.text import TfidfVectorizer"
   ]
  },
  {
   "cell_type": "code",
   "execution_count": null,
   "metadata": {},
   "outputs": [],
   "source": [
    "def tfidf_features(X_train, X_val, X_test):\n",
    "    \"\"\"\n",
    "        X_train, X_val, X_test — samples        \n",
    "        return TF-IDF vectorized representation of each sample and vocabulary\n",
    "    \"\"\"\n",
    "    # Create TF-IDF vectorizer with a proper parameters choice\n",
    "    # Fit the vectorizer on the train set\n",
    "    # Transform the train, test, and val sets and return the result\n",
    "    \n",
    "    \n",
    "    tfidf_vectorizer = ####### YOUR CODE HERE #######\n",
    "    \n",
    "    ######################################\n",
    "    ######### YOUR CODE HERE #############\n",
    "    ######################################\n",
    "    \n",
    "    return X_train, X_val, X_test, tfidf_vectorizer.vocabulary_"
   ]
  },
  {
   "cell_type": "markdown",
   "metadata": {},
   "source": [
    "Once you have done text preprocessing, always have a look at the results. Be very careful at this step, because the performance of future models will drastically depend on it. \n",
    "\n",
    "In this case, check whether you have c++ or c# in your vocabulary, as they are obviously important tokens in our tags prediction task:"
   ]
  },
  {
   "cell_type": "code",
   "execution_count": null,
   "metadata": {},
   "outputs": [],
   "source": [
    "X_train_tfidf, X_val_tfidf, X_test_tfidf, tfidf_vocab = tfidf_features(X_train, X_val, X_test)\n",
    "tfidf_reversed_vocab = {i:word for word,i in tfidf_vocab.items()}"
   ]
  },
  {
   "cell_type": "code",
   "execution_count": null,
   "metadata": {},
   "outputs": [],
   "source": [
    "######### YOUR CODE HERE #############"
   ]
  },
  {
   "cell_type": "markdown",
   "metadata": {},
   "source": [
    "If you can't find it, we need to understand how did it happen that we lost them? It happened during the built-in tokenization of TfidfVectorizer. Luckily, we can influence on this process. Get back to the function above and use '(\\S+)' regexp as a *token_pattern* in the constructor of the vectorizer.  "
   ]
  },
  {
   "cell_type": "markdown",
   "metadata": {},
   "source": [
    "Now, use this transormation for the data and check again."
   ]
  },
  {
   "cell_type": "code",
   "execution_count": null,
   "metadata": {},
   "outputs": [],
   "source": [
    "######### YOUR CODE HERE #############"
   ]
  },
  {
   "cell_type": "markdown",
   "metadata": {},
   "source": [
    "### MultiLabel classifier\n",
    "\n",
    "As we have noticed before, in this task each example can have multiple tags. To deal with such kind of prediction, we need to transform labels in a binary form and the prediction will be a mask of 0s and 1s. For this purpose it is convenient to use [MultiLabelBinarizer](http://scikit-learn.org/stable/modules/generated/sklearn.preprocessing.MultiLabelBinarizer.html) from *sklearn*."
   ]
  },
  {
   "cell_type": "code",
   "execution_count": null,
   "metadata": {},
   "outputs": [],
   "source": [
    "from sklearn.preprocessing import MultiLabelBinarizer"
   ]
  },
  {
   "cell_type": "code",
   "execution_count": null,
   "metadata": {},
   "outputs": [],
   "source": [
    "mlb = MultiLabelBinarizer(classes=sorted(tags_counts.keys()))\n",
    "y_train = mlb.fit_transform(y_train)\n",
    "y_val = mlb.fit_transform(y_val)"
   ]
  },
  {
   "cell_type": "markdown",
   "metadata": {},
   "source": [
    "Implement the function *train_classifier* for training a classifier. In this task we suggest to use One-vs-Rest approach, which is implemented in [OneVsRestClassifier](http://scikit-learn.org/stable/modules/generated/sklearn.multiclass.OneVsRestClassifier.html) class. In this approach *k* classifiers (= number of tags) are trained. As a basic classifier, use [LogisticRegression](http://scikit-learn.org/stable/modules/generated/sklearn.linear_model.LogisticRegression.html). It is one of the simplest methods, but often it performs good enough in text classification tasks. It might take some time, because a number of classifiers to train is large."
   ]
  },
  {
   "cell_type": "code",
   "execution_count": null,
   "metadata": {},
   "outputs": [],
   "source": [
    "from sklearn.multiclass import OneVsRestClassifier\n",
    "from sklearn.linear_model import LogisticRegression, RidgeClassifier"
   ]
  },
  {
   "cell_type": "code",
   "execution_count": null,
   "metadata": {},
   "outputs": [],
   "source": [
    "def train_classifier(X_train, y_train):\n",
    "    \"\"\"\n",
    "      X_train, y_train — training data\n",
    "      \n",
    "      return: trained classifier\n",
    "    \"\"\"\n",
    "    \n",
    "    # Create and fit LogisticRegression wraped into OneVsRestClassifier.\n",
    "\n",
    "    ######################################\n",
    "    ######### YOUR CODE HERE #############\n",
    "    ######################################    "
   ]
  },
  {
   "cell_type": "markdown",
   "metadata": {},
   "source": [
    "Train the classifiers for different data transformations: *bag-of-words* and *tf-idf*."
   ]
  },
  {
   "cell_type": "code",
   "execution_count": null,
   "metadata": {},
   "outputs": [],
   "source": [
    "classifier_mybag = train_classifier(X_train_mybag, y_train)\n",
    "classifier_tfidf = train_classifier(X_train_tfidf, y_train)"
   ]
  },
  {
   "cell_type": "markdown",
   "metadata": {},
   "source": [
    "Now you can create predictions for the data. You will need two types of predictions: labels and scores."
   ]
  },
  {
   "cell_type": "code",
   "execution_count": null,
   "metadata": {},
   "outputs": [],
   "source": [
    "y_val_predicted_labels_mybag = classifier_mybag.predict(X_val_mybag)\n",
    "y_val_predicted_scores_mybag = classifier_mybag.decision_function(X_val_mybag)\n",
    "\n",
    "y_val_predicted_labels_tfidf = classifier_tfidf.predict(X_val_tfidf)\n",
    "y_val_predicted_scores_tfidf = classifier_tfidf.decision_function(X_val_tfidf)"
   ]
  },
  {
   "cell_type": "markdown",
   "metadata": {},
   "source": [
    "Now take a look at how classifier, which uses TF-IDF, works for a few examples:"
   ]
  },
  {
   "cell_type": "code",
   "execution_count": null,
   "metadata": {},
   "outputs": [],
   "source": [
    "y_val_pred_inversed = mlb.inverse_transform(y_val_predicted_labels_tfidf)\n",
    "y_val_inversed = mlb.inverse_transform(y_val)\n",
    "for i in range(3):\n",
    "    print('Title:\\t{}\\nTrue labels:\\t{}\\nPredicted labels:\\t{}\\n\\n'.format(\n",
    "        X_val[i],\n",
    "        ','.join(y_val_inversed[i]),\n",
    "        ','.join(y_val_pred_inversed[i])\n",
    "    ))"
   ]
  },
  {
   "cell_type": "markdown",
   "metadata": {},
   "source": [
    "Now, we would need to compare the results of different predictions, e.g. to see whether TF-IDF transformation helps or to try different regularization techniques in logistic regression. For all these experiments, we need to setup evaluation procedure. "
   ]
  },
  {
   "cell_type": "markdown",
   "metadata": {},
   "source": [
    "### Evaluation\n",
    "\n",
    "To evaluate the results we will use several classification metrics:\n",
    " - [Accuracy](http://scikit-learn.org/stable/modules/generated/sklearn.metrics.accuracy_score.html)\n",
    " - [F1-score](http://scikit-learn.org/stable/modules/generated/sklearn.metrics.f1_score.html)\n",
    " - [Area under ROC-curve](http://scikit-learn.org/stable/modules/generated/sklearn.metrics.roc_auc_score.html)\n",
    " - [Area under precision-recall curve](http://scikit-learn.org/stable/modules/generated/sklearn.metrics.average_precision_score.html#sklearn.metrics.average_precision_score) \n",
    " \n",
    "Make sure you are familiar with all of them. How would you expect the things work for the multi-label scenario? Read about micro/macro/weighted averaging following the sklearn links provided above."
   ]
  },
  {
   "cell_type": "code",
   "execution_count": null,
   "metadata": {},
   "outputs": [],
   "source": [
    "from sklearn.metrics import accuracy_score\n",
    "from sklearn.metrics import f1_score\n",
    "from sklearn.metrics import roc_auc_score \n",
    "from sklearn.metrics import average_precision_score\n",
    "from sklearn.metrics import recall_score"
   ]
  },
  {
   "cell_type": "markdown",
   "metadata": {},
   "source": [
    "Implement the function *print_evaluation_scores* which calculates and prints to stdout:\n",
    " - *accuracy*\n",
    " - *F1-score macro/micro/weighted*\n",
    " - *Precision macro/micro/weighted*"
   ]
  },
  {
   "cell_type": "code",
   "execution_count": null,
   "metadata": {},
   "outputs": [],
   "source": [
    "def print_evaluation_scores(y_val, predicted):\n",
    "    \n",
    "    ######################################\n",
    "    ######### YOUR CODE HERE #############\n",
    "    ######################################"
   ]
  },
  {
   "cell_type": "code",
   "execution_count": null,
   "metadata": {},
   "outputs": [],
   "source": [
    "print('Bag-of-words')\n",
    "print_evaluation_scores(y_val, y_val_predicted_labels_mybag)\n",
    "print('Tfidf')\n",
    "print_evaluation_scores(y_val, y_val_predicted_labels_tfidf)"
   ]
  },
  {
   "cell_type": "markdown",
   "metadata": {},
   "source": [
    "You might also want to plot some generalization of the [ROC curve](http://scikit-learn.org/stable/modules/model_evaluation.html#receiver-operating-characteristic-roc) for the case of multi-label classification. Provided function *roc_auc* can make it for you. The input parameters of this function are:\n",
    " - true labels\n",
    " - decision functions scores\n",
    " - number of classes"
   ]
  },
  {
   "cell_type": "code",
   "execution_count": null,
   "metadata": {},
   "outputs": [],
   "source": [
    "from metrics import roc_auc\n",
    "%matplotlib inline"
   ]
  },
  {
   "cell_type": "code",
   "execution_count": null,
   "metadata": {},
   "outputs": [],
   "source": [
    "n_classes = len(tags_counts)\n",
    "roc_auc(y_val, y_val_predicted_scores_mybag, n_classes)"
   ]
  },
  {
   "cell_type": "code",
   "execution_count": null,
   "metadata": {},
   "outputs": [],
   "source": [
    "n_classes = len(tags_counts)\n",
    "roc_auc(y_val, y_val_predicted_scores_tfidf, n_classes)"
   ]
  },
  {
   "cell_type": "markdown",
   "metadata": {},
   "source": [
    "**Task 4 (MultilabelClassification).** Once we have the evaluation set up, we suggest that you experiment a bit with training your classifiers. We will use *F1-score weighted* as an evaluation metric. Our recommendation:\n",
    "- compare the quality of the bag-of-words and TF-IDF approaches and chose one of them.\n",
    "- for the chosen one, try *L1* and *L2*-regularization techniques in Logistic Regression with different coefficients (e.g. C equal to 0.1, 1, 10, 100).\n",
    "\n",
    "You also could try other improvements of the preprocessing / model, if you want. "
   ]
  },
  {
   "cell_type": "code",
   "execution_count": null,
   "metadata": {},
   "outputs": [],
   "source": [
    "######################################\n",
    "######### YOUR CODE HERE #############\n",
    "######################################"
   ]
  },
  {
   "cell_type": "markdown",
   "metadata": {},
   "source": [
    "When you are happy with the quality, create predictions for *test* set, which you will submit to Coursera."
   ]
  },
  {
   "cell_type": "code",
   "execution_count": null,
   "metadata": {},
   "outputs": [],
   "source": [
    "test_predictions = ######### YOUR CODE HERE #############\n",
    "test_pred_inversed = mlb.inverse_transform(test_predictions)\n",
    "\n",
    "test_predictions_for_submission = '\\n'.join('%i\\t%s' % (i, ','.join(row)) for i, row in enumerate(test_pred_inversed))\n",
    "grader.submit_tag('MultilabelClassification', test_predictions_for_submission)"
   ]
  },
  {
   "cell_type": "markdown",
   "metadata": {},
   "source": [
    "### Analysis of the most important features"
   ]
  },
  {
   "cell_type": "markdown",
   "metadata": {},
   "source": [
    "Finally, it is usually a good idea to look at the features (words or n-grams) that are used with the largest weigths in your logistic regression model."
   ]
  },
  {
   "cell_type": "markdown",
   "metadata": {},
   "source": [
    "Implement the function *print_words_for_tag* to find them. Get back to sklearn documentation on [OneVsRestClassifier](http://scikit-learn.org/stable/modules/generated/sklearn.multiclass.OneVsRestClassifier.html) and [LogisticRegression](http://scikit-learn.org/stable/modules/generated/sklearn.linear_model.LogisticRegression.html) if needed."
   ]
  },
  {
   "cell_type": "code",
   "execution_count": null,
   "metadata": {},
   "outputs": [],
   "source": [
    "def print_words_for_tag(classifier, tag, tags_classes, index_to_words, all_words):\n",
    "    \"\"\"\n",
    "        classifier: trained classifier\n",
    "        tag: particular tag\n",
    "        tags_classes: a list of classes names from MultiLabelBinarizer\n",
    "        index_to_words: index_to_words transformation\n",
    "        all_words: all words in the dictionary\n",
    "        \n",
    "        return nothing, just print top 5 positive and top 5 negative words for current tag\n",
    "    \"\"\"\n",
    "    print('Tag:\\t{}'.format(tag))\n",
    "    \n",
    "    # Extract an estimator from the classifier for the given tag.\n",
    "    # Extract feature coefficients from the estimator. \n",
    "    \n",
    "    ######################################\n",
    "    ######### YOUR CODE HERE #############\n",
    "    ######################################\n",
    "    \n",
    "    top_positive_words = # top-5 words sorted by the coefficiens.\n",
    "    top_negative_words = # bottom-5 words  sorted by the coefficients.\n",
    "    print('Top positive words:\\t{}'.format(', '.join(top_positive_words)))\n",
    "    print('Top negative words:\\t{}\\n'.format(', '.join(top_negative_words)))"
   ]
  },
  {
   "cell_type": "code",
   "execution_count": null,
   "metadata": {},
   "outputs": [],
   "source": [
    "print_words_for_tag(classifier_tfidf, 'c', mlb.classes, tfidf_reversed_vocab, ALL_WORDS)\n",
    "print_words_for_tag(classifier_tfidf, 'c++', mlb.classes, tfidf_reversed_vocab, ALL_WORDS)\n",
    "print_words_for_tag(classifier_tfidf, 'linux', mlb.classes, tfidf_reversed_vocab, ALL_WORDS)"
   ]
  },
  {
   "cell_type": "markdown",
   "metadata": {},
   "source": [
    "### Authorization & Submission\n",
    "To submit assignment parts to Cousera platform, please, enter your e-mail and token into variables below. You can generate token on this programming assignment page. <b>Note:</b> Token expires 30 minutes after generation."
   ]
  },
  {
   "cell_type": "code",
   "execution_count": 51,
   "metadata": {
    "ExecuteTime": {
     "end_time": "2019-06-26T04:11:31.329020Z",
     "start_time": "2019-06-26T04:11:31.324068Z"
    }
   },
   "outputs": [
    {
     "name": "stdout",
     "output_type": "stream",
     "text": [
      "You want to submit these parts:\n",
      "Task TextPrepare:\n",
      " sqlitephp readonly\n",
      "creating multiple textboxes dynamically\n",
      "self one prefer javascript\n",
      "save php date ...\n",
      "Task WordsTagsCount:\n",
      " javascript,c#,java\n",
      "using,php,java...\n",
      "Task BagOfWords:\n",
      " ----------...\n",
      "Task MultilabelClassification:\n",
      " ----------...\n"
     ]
    }
   ],
   "source": [
    "grader.status()"
   ]
  },
  {
   "cell_type": "code",
   "execution_count": 55,
   "metadata": {
    "ExecuteTime": {
     "end_time": "2019-06-26T04:12:20.213419Z",
     "start_time": "2019-06-26T04:12:20.208433Z"
    }
   },
   "outputs": [
    {
     "name": "stdout",
     "output_type": "stream",
     "text": [
      "You want to submit these parts:\n",
      "Task TextPrepare:\n",
      " sqlitephp readonly\n",
      "creating multiple textboxes dynamically\n",
      "self one prefer javascript\n",
      "save php date ...\n",
      "Task WordsTagsCount:\n",
      " javascript,c#,java\n",
      "using,php,java...\n",
      "Task BagOfWords:\n",
      " ----------...\n",
      "Task MultilabelClassification:\n",
      " ----------...\n"
     ]
    }
   ],
   "source": [
    "STUDENT_EMAIL = None\n",
    "STUDENT_TOKEN = None \n",
    "grader.status()"
   ]
  },
  {
   "cell_type": "markdown",
   "metadata": {},
   "source": [
    "If you want to submit these answers, run cell below"
   ]
  },
  {
   "cell_type": "code",
   "execution_count": 56,
   "metadata": {
    "ExecuteTime": {
     "end_time": "2019-06-26T04:12:25.536792Z",
     "start_time": "2019-06-26T04:12:24.286092Z"
    }
   },
   "outputs": [
    {
     "name": "stdout",
     "output_type": "stream",
     "text": [
      "Unknown response from Coursera: 400\n",
      "{'errorCode': None, 'message': \"JSON didn't validate\", 'details': {'/submitterEmail': [{'message': 'error.expected.jsstring', 'args': []}], '/secret': [{'message': 'error.expected.jsstring', 'args': []}]}}\n"
     ]
    }
   ],
   "source": [
    "grader.submit(STUDENT_EMAIL, STUDENT_TOKEN)"
   ]
  }
 ],
 "metadata": {
  "kernelspec": {
   "display_name": "Python 3",
   "language": "python",
   "name": "python3"
  },
  "language_info": {
   "codemirror_mode": {
    "name": "ipython",
    "version": 3
   },
   "file_extension": ".py",
   "mimetype": "text/x-python",
   "name": "python",
   "nbconvert_exporter": "python",
   "pygments_lexer": "ipython3",
   "version": "3.7.3"
  },
  "toc": {
   "base_numbering": 1,
   "nav_menu": {},
   "number_sections": true,
   "sideBar": true,
   "skip_h1_title": false,
   "title_cell": "Table of Contents",
   "title_sidebar": "Contents",
   "toc_cell": false,
   "toc_position": {},
   "toc_section_display": true,
   "toc_window_display": false
  },
  "varInspector": {
   "cols": {
    "lenName": 16,
    "lenType": 16,
    "lenVar": 40
   },
   "kernels_config": {
    "python": {
     "delete_cmd_postfix": "",
     "delete_cmd_prefix": "del ",
     "library": "var_list.py",
     "varRefreshCmd": "print(var_dic_list())"
    },
    "r": {
     "delete_cmd_postfix": ") ",
     "delete_cmd_prefix": "rm(",
     "library": "var_list.r",
     "varRefreshCmd": "cat(var_dic_list()) "
    }
   },
   "types_to_exclude": [
    "module",
    "function",
    "builtin_function_or_method",
    "instance",
    "_Feature"
   ],
   "window_display": false
  }
 },
 "nbformat": 4,
 "nbformat_minor": 2
}
